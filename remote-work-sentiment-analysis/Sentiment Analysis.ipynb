{
 "cells": [
  {
   "cell_type": "code",
   "execution_count": 2,
   "id": "7e081040-87ae-4467-a830-8da9650f3b30",
   "metadata": {},
   "outputs": [
    {
     "name": "stdout",
     "output_type": "stream",
     "text": [
      "          date                                              tweet\n",
      "0   2024-06-01   I love working remotely—so much more productive!\n",
      "1   2024-06-02  Remote work is the best thing that happened to...\n",
      "2   2024-06-02  I feel so isolated working from home all the t...\n",
      "3   2024-06-03  My mental health has improved since I started ...\n",
      "4   2024-06-04  I'm tired of Zoom calls every day, I miss real...\n",
      "..         ...                                                ...\n",
      "94  2024-09-02    It feels like work never ends when it’s remote.\n",
      "95  2024-09-03       Remote work helped me move closer to family.\n",
      "96  2024-09-04    Remote work gives me time for morning workouts.\n",
      "97  2024-09-05        I miss team lunches and Friday happy hours.\n",
      "98  2024-09-06  I’d be more productive if I had a separate wor...\n",
      "\n",
      "[99 rows x 2 columns]\n"
     ]
    },
    {
     "data": {
      "text/html": [
       "<div>\n",
       "<style scoped>\n",
       "    .dataframe tbody tr th:only-of-type {\n",
       "        vertical-align: middle;\n",
       "    }\n",
       "\n",
       "    .dataframe tbody tr th {\n",
       "        vertical-align: top;\n",
       "    }\n",
       "\n",
       "    .dataframe thead th {\n",
       "        text-align: right;\n",
       "    }\n",
       "</style>\n",
       "<table border=\"1\" class=\"dataframe\">\n",
       "  <thead>\n",
       "    <tr style=\"text-align: right;\">\n",
       "      <th></th>\n",
       "      <th>date</th>\n",
       "      <th>tweet</th>\n",
       "    </tr>\n",
       "  </thead>\n",
       "  <tbody>\n",
       "    <tr>\n",
       "      <th>0</th>\n",
       "      <td>2024-06-01</td>\n",
       "      <td>I love working remotely—so much more productive!</td>\n",
       "    </tr>\n",
       "    <tr>\n",
       "      <th>1</th>\n",
       "      <td>2024-06-02</td>\n",
       "      <td>Remote work is the best thing that happened to...</td>\n",
       "    </tr>\n",
       "    <tr>\n",
       "      <th>2</th>\n",
       "      <td>2024-06-02</td>\n",
       "      <td>I feel so isolated working from home all the t...</td>\n",
       "    </tr>\n",
       "    <tr>\n",
       "      <th>3</th>\n",
       "      <td>2024-06-03</td>\n",
       "      <td>My mental health has improved since I started ...</td>\n",
       "    </tr>\n",
       "    <tr>\n",
       "      <th>4</th>\n",
       "      <td>2024-06-04</td>\n",
       "      <td>I'm tired of Zoom calls every day, I miss real...</td>\n",
       "    </tr>\n",
       "  </tbody>\n",
       "</table>\n",
       "</div>"
      ],
      "text/plain": [
       "         date                                              tweet\n",
       "0  2024-06-01   I love working remotely—so much more productive!\n",
       "1  2024-06-02  Remote work is the best thing that happened to...\n",
       "2  2024-06-02  I feel so isolated working from home all the t...\n",
       "3  2024-06-03  My mental health has improved since I started ...\n",
       "4  2024-06-04  I'm tired of Zoom calls every day, I miss real..."
      ]
     },
     "execution_count": 2,
     "metadata": {},
     "output_type": "execute_result"
    }
   ],
   "source": [
    "import pandas as pd\n",
    "df=pd.read_csv(\"C:/Users/Oluwanifemi/Downloads/remote_work_tweets_100.csv\")\n",
    "print(df)\n",
    "df.head()"
   ]
  },
  {
   "cell_type": "code",
   "execution_count": 3,
   "id": "c260e9eb-9fcd-4fdc-89a3-0ecbc4eab914",
   "metadata": {},
   "outputs": [
    {
     "name": "stdout",
     "output_type": "stream",
     "text": [
      "          date                                              tweet Sentiment\n",
      "0   2024-06-01   I love working remotely—so much more productive!  Positive\n",
      "1   2024-06-02  Remote work is the best thing that happened to...  Positive\n",
      "2   2024-06-02  I feel so isolated working from home all the t...  Negative\n",
      "3   2024-06-03  My mental health has improved since I started ...  Positive\n",
      "4   2024-06-04  I'm tired of Zoom calls every day, I miss real...  Negative\n",
      "..         ...                                                ...       ...\n",
      "94  2024-09-02    It feels like work never ends when it’s remote.  Positive\n",
      "95  2024-09-03       Remote work helped me move closer to family.   Neutral\n",
      "96  2024-09-04    Remote work gives me time for morning workouts.   Neutral\n",
      "97  2024-09-05        I miss team lunches and Friday happy hours.  Positive\n",
      "98  2024-09-06  I’d be more productive if I had a separate wor...   Neutral\n",
      "\n",
      "[99 rows x 3 columns]\n"
     ]
    }
   ],
   "source": [
    "from vaderSentiment.vaderSentiment import SentimentIntensityAnalyzer\n",
    "\n",
    "# Step 1: Create the analyzer\n",
    "analyzer = SentimentIntensityAnalyzer()\n",
    "\n",
    "# Step 2: Define a function to classify sentiment\n",
    "def get_sentiment(text):\n",
    "    score = analyzer.polarity_scores(text)['compound']  # compound score shows overall emotion\n",
    "    if score >= 0.05:\n",
    "        return 'Positive'\n",
    "    elif score <= -0.05:\n",
    "        return 'Negative'\n",
    "    else:\n",
    "        return 'Neutral'\n",
    "\n",
    "# Step 3: Apply it to each tweet\n",
    "df['Sentiment'] = df['tweet'].apply(get_sentiment)\n",
    "\n",
    "# Step 4: View the new column\n",
    "df.head()\n",
    "print(df)"
   ]
  },
  {
   "cell_type": "code",
   "execution_count": 7,
   "id": "110bccbb-3942-4c17-9e2e-2d0fae3ded48",
   "metadata": {},
   "outputs": [
    {
     "name": "stderr",
     "output_type": "stream",
     "text": [
      "C:\\Users\\Oluwanifemi\\AppData\\Local\\Temp\\ipykernel_15600\\4077509666.py:9: FutureWarning: \n",
      "\n",
      "Passing `palette` without assigning `hue` is deprecated and will be removed in v0.14.0. Assign the `x` variable to `hue` and set `legend=False` for the same effect.\n",
      "\n",
      "  sns.countplot(x='Sentiment', data=df, palette='Set2')\n"
     ]
    },
    {
     "data": {
      "image/png": "[encoded data removed]",
      "text/plain": [
       "<Figure size 600x400 with 1 Axes>"
      ]
     },
     "metadata": {},
     "output_type": "display_data"
    }
   ],
   "source": [
    "import matplotlib.pyplot as plt\n",
    "import seaborn as sns\n",
    "\n",
    "# Set the chart style\n",
    "sns.set(style=\"whitegrid\")\n",
    "\n",
    "# Create the chart\n",
    "plt.figure(figsize=(6, 4))\n",
    "sns.countplot(x='Sentiment', data=df, palette='Set2')\n",
    "plt.title('How People Feel About Remote Work (Tweet Sentiment)')\n",
    "plt.xlabel('Sentiment')\n",
    "plt.ylabel('Number of Tweets')\n",
    "plt.show()\n"
   ]
  },
  {
   "cell_type": "code",
   "execution_count": 8,
   "id": "ce7bc2a7-7279-41f4-9031-53efdee51cbd",
   "metadata": {},
   "outputs": [
    {
     "data": {
      "image/png": "[encoded data removed]",
      "text/plain": [
       "<Figure size 600x400 with 1 Axes>"
      ]
     },
     "metadata": {},
     "output_type": "display_data"
    }
   ],
   "source": [
    "import matplotlib.pyplot as plt\n",
    "import seaborn as sns\n",
    "\n",
    "sns.set(style=\"whitegrid\")\n",
    "\n",
    "plt.figure(figsize=(6, 4))\n",
    "sns.countplot(x='Sentiment', hue='Sentiment', data=df, palette='Set2', legend=False)\n",
    "plt.title('How People Feel About Remote Work (Tweet Sentiment)')\n",
    "plt.xlabel('Sentiment')\n",
    "plt.ylabel('Number of Tweets')\n",
    "plt.show()\n"
   ]
  },
  {
   "cell_type": "code",
   "execution_count": 4,
   "id": "dcf05af6-dede-4ce7-a7b7-1c5a45227af3",
   "metadata": {},
   "outputs": [],
   "source": [
    "df.to_csv('remote_work_sentiment_results.csv', index=False)\n"
   ]
  },
  {
   "cell_type": "code",
   "execution_count": 5,
   "id": "a00269a5-7f7c-46f7-91f3-661d687c3884",
   "metadata": {},
   "outputs": [
    {
     "data": {
      "text/plain": [
       "'C:\\\\Users\\\\Oluwanifemi'"
      ]
     },
     "execution_count": 5,
     "metadata": {},
     "output_type": "execute_result"
    }
   ],
   "source": [
    "import os\n",
    "os.getcwd()\n"
   ]
  },
  {
   "cell_type": "code",
   "execution_count": 8,
   "id": "870aeba3-8f38-467b-8c07-fa579e44e3c5",
   "metadata": {},
   "outputs": [],
   "source": [
    "os.listdir()\n",
    "import getpass\n",
    "getpass.getuser()\n",
    "df.to_csv(r\"C:\\Users\\Oluwanifemi\\Desktop\\remote_work_sentiment_results.csv\", index=False)\n",
    "\n"
   ]
  },
  {
   "cell_type": "code",
   "execution_count": null,
   "id": "d34c6448-c8ee-452d-a457-96236f98d24c",
   "metadata": {},
   "outputs": [],
   "source": []
  }
 ],
 "metadata": {
  "kernelspec": {
   "display_name": "Python 3 (ipykernel)",
   "language": "python",
   "name": "python3"
  },
  "language_info": {
   "codemirror_mode": {
    "name": "ipython",
    "version": 3
   },
   "file_extension": ".py",
   "mimetype": "text/x-python",
   "name": "python",
   "nbconvert_exporter": "python",
   "pygments_lexer": "ipython3",
   "version": "3.12.7"
  }
 },
 "nbformat": 4,
 "nbformat_minor": 5
}
